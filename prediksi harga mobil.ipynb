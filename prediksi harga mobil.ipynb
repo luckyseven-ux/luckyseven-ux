{
 "cells": [
  {
   "cell_type": "code",
   "execution_count": 1,
   "metadata": {},
   "outputs": [
    {
     "name": "stdout",
     "output_type": "stream",
     "text": [
      "   Year  Predicted_Price_in_thousands\n",
      "0  2024                     68.627998\n",
      "1  2025                     76.378319\n"
     ]
    }
   ],
   "source": [
    "import pandas as pd\n",
    "import numpy as np\n",
    "from sklearn.pipeline import Pipeline\n",
    "from sklearn.linear_model import LinearRegression\n",
    "from sklearn.preprocessing import StandardScaler\n",
    "\n",
    "# Anda bisa mengganti 'data.csv' dengan nama file yang sesuai dengan data Anda\n",
    "data = pd.read_csv('E:\\syntax code\\python\\jupytr\\dataset\\Car_sales.csv')\n",
    "\n",
    "# Menghapus baris dengan missing values pada kolom 'Horsepower', 'Price_in_thousands', 'Power_perf_factor', dan 'Fuel_efficiency'\n",
    "data.dropna(subset=['Horsepower', 'Price_in_thousands', 'Power_perf_factor', 'Fuel_efficiency'], inplace=True)\n",
    "\n",
    "# Mengatasi nilai inf (jika ada) dengan menggantinya dengan nilai NaN\n",
    "data.replace([np.inf, -np.inf], np.nan, inplace=True)\n",
    "\n",
    "# Mengisi nilai NaN dengan rata-rata dari kolom 'Horsepower', 'Power_perf_factor', dan 'Fuel_efficiency'\n",
    "data['Horsepower'].fillna(data['Horsepower'].mean(), inplace=True)\n",
    "data['Power_perf_factor'].fillna(data['Power_perf_factor'].mean(), inplace=True)\n",
    "data['Fuel_efficiency'].fillna(data['Fuel_efficiency'].mean(), inplace=True)\n",
    "\n",
    "# Memisahkan data menjadi fitur (X) dan target (y)\n",
    "X = data[['Horsepower', 'Power_perf_factor', 'Fuel_efficiency']]\n",
    "y = data['Price_in_thousands']\n",
    "\n",
    "# Membuat pipeline dengan langkah-langkah pemrosesan data dan model\n",
    "pipeline = Pipeline([\n",
    "    ('scaler', StandardScaler()),  # Normalisasi data\n",
    "    ('regressor', LinearRegression())  # Model Regresi Linier\n",
    "])\n",
    "\n",
    "# Melatih model pada keseluruhan data\n",
    "pipeline.fit(X, y)\n",
    "\n",
    "# Prediksi harga mobil untuk 2 tahun ke depan (2024 dan 2025)\n",
    "X_future = pd.DataFrame({\n",
    "    'Horsepower': [150, 170],\n",
    "    'Power_perf_factor': [80, 90],\n",
    "    'Fuel_efficiency': [25, 30]\n",
    "})\n",
    "\n",
    "# Normalisasi data untuk prediksi\n",
    "X_future_scaled = pipeline.named_steps['scaler'].transform(X_future)\n",
    "\n",
    "# Prediksi harga mobil menggunakan model regresi linier\n",
    "predicted_prices = pipeline.named_steps['regressor'].predict(X_future_scaled)\n",
    "\n",
    "# Hasil prediksi\n",
    "result = pd.DataFrame({'Year': [2024, 2025], 'Predicted_Price_in_thousands': predicted_prices})\n",
    "print(result)\n"
   ]
  },
  {
   "cell_type": "code",
   "execution_count": null,
   "metadata": {},
   "outputs": [],
   "source": []
  }
 ],
 "metadata": {
  "kernelspec": {
   "display_name": "Python 3",
   "language": "python",
   "name": "python3"
  },
  "language_info": {
   "codemirror_mode": {
    "name": "ipython",
    "version": 3
   },
   "file_extension": ".py",
   "mimetype": "text/x-python",
   "name": "python",
   "nbconvert_exporter": "python",
   "pygments_lexer": "ipython3",
   "version": "3.11.4"
  },
  "orig_nbformat": 4
 },
 "nbformat": 4,
 "nbformat_minor": 2
}
